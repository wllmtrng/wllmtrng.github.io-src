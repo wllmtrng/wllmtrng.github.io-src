{
 "cells": [
  {
   "cell_type": "markdown",
   "metadata": {
    "ExecuteTime": {
     "end_time": "2017-10-22T19:54:58.870961",
     "start_time": "2017-10-22T19:54:58.859652"
    },
    "collapsed": false
   },
   "source": [
    "# Supervised Learning, Part 1: Regression"
   ]
  },
  {
   "cell_type": "markdown",
   "metadata": {},
   "source": [
    "## What is Supervised Learning?"
   ]
  },
  {
   "cell_type": "markdown",
   "metadata": {
    "collapsed": true
   },
   "source": [
    "Supervised learning is the machine learning task of attempting to use a set of grouped examples known as **training data**, with each example comprising of two things: \n",
    "\n",
    "1. an input, which is a set of one or more **features** \n",
    "2. an output, which is commonly referred to as the **label**\n",
    "\n",
    "to determine the mapping function that generalizes the relationship between the **features** and the **label** for each example."
   ]
  },
  {
   "cell_type": "markdown",
   "metadata": {},
   "source": [
    "*Real estate websites like Zillow use houses that were recently sold to find out how features like square footage, number of rooms, neighborhood, etc., play a role in determining house prices*\n",
    "\n",
    "*Spam filters learn how to determine which emails are likely spam by analyzing the contents of spam emails that have been previously tagged by users*"
   ]
  },
  {
   "cell_type": "markdown",
   "metadata": {},
   "source": [
    "## The Two Types: Regression and Classification"
   ]
  },
  {
   "cell_type": "markdown",
   "metadata": {
    "ExecuteTime": {
     "end_time": "2017-10-23T06:46:57.992155",
     "start_time": "2017-10-23T06:46:57.986220"
    }
   },
   "source": [
    "In mathematical terms, supervised learning attempts to do this, given input $x$ and output $y$:\n",
    "$$ h_\\theta(x) = y $$\n",
    "\n",
    "When $y$ is a continuous output variable, such as the price of a house, it is referred to as **regression** problem. When $y$ is a categorical variable, such as the type of animal, it is referred to as a **classification** problem.\n",
    "\n",
    "Today we will go over **linear regression**, which is a linear approach for modeling the relationship between input variables to an output variable."
   ]
  },
  {
   "cell_type": "markdown",
   "metadata": {},
   "source": [
    "## Linear Regression"
   ]
  },
  {
   "cell_type": "markdown",
   "metadata": {},
   "source": [
    "### Univariate Linear Regression"
   ]
  },
  {
   "cell_type": "markdown",
   "metadata": {},
   "source": [
    "Let's start off with a linear regression problem with one input variable. Suppose we have the following training data:"
   ]
  },
  {
   "cell_type": "code",
   "execution_count": 7,
   "metadata": {
    "ExecuteTime": {
     "end_time": "2017-10-23T06:52:24.317507",
     "start_time": "2017-10-23T06:52:24.303916"
    },
    "collapsed": false
   },
   "outputs": [
    {
     "data": {
      "text/html": [
       "<div>\n",
       "<table border=\"1\" class=\"dataframe\">\n",
       "  <thead>\n",
       "    <tr style=\"text-align: right;\">\n",
       "      <th></th>\n",
       "      <th>x</th>\n",
       "      <th>y</th>\n",
       "    </tr>\n",
       "  </thead>\n",
       "  <tbody>\n",
       "    <tr>\n",
       "      <th>0</th>\n",
       "      <td>0</td>\n",
       "      <td>4</td>\n",
       "    </tr>\n",
       "    <tr>\n",
       "      <th>1</th>\n",
       "      <td>1</td>\n",
       "      <td>7</td>\n",
       "    </tr>\n",
       "    <tr>\n",
       "      <th>2</th>\n",
       "      <td>2</td>\n",
       "      <td>7</td>\n",
       "    </tr>\n",
       "    <tr>\n",
       "      <th>3</th>\n",
       "      <td>3</td>\n",
       "      <td>8</td>\n",
       "    </tr>\n",
       "  </tbody>\n",
       "</table>\n",
       "</div>"
      ],
      "text/plain": [
       "   x  y\n",
       "0  0  4\n",
       "1  1  7\n",
       "2  2  7\n",
       "3  3  8"
      ]
     },
     "execution_count": 7,
     "metadata": {},
     "output_type": "execute_result"
    }
   ],
   "source": [
    "import pandas as pd\n",
    "import matplotlib\n",
    "\n",
    "matplotlib.style.use('ggplot')\n",
    "%matplotlib inline\n",
    "\n",
    "training_data = {\n",
    "    'x': [0, 1, 2, 3],\n",
    "    'y': [4, 7, 7, 8]\n",
    "}\n",
    "\n",
    "train_df = pd.DataFrame.from_dict(training_data)\n",
    "train_df"
   ]
  },
  {
   "cell_type": "markdown",
   "metadata": {},
   "source": [
    "Let's plot the data to see what it looks like:"
   ]
  },
  {
   "cell_type": "code",
   "execution_count": 9,
   "metadata": {
    "ExecuteTime": {
     "end_time": "2017-10-23T06:53:38.320078",
     "start_time": "2017-10-23T06:53:38.144541"
    },
    "collapsed": false
   },
   "outputs": [
    {
     "data": {
      "text/plain": [
       "<matplotlib.axes._subplots.AxesSubplot at 0x11537d160>"
      ]
     },
     "execution_count": 9,
     "metadata": {},
     "output_type": "execute_result"
    },
    {
     "data": {
      "image/png": "[encoded data removed]",
      "text/plain": [
       "<matplotlib.figure.Figure at 0x115078e10>"
      ]
     },
     "metadata": {},
     "output_type": "display_data"
    }
   ],
   "source": [
    "train_df.plot(kind='scatter', x='x', y='y')"
   ]
  },
  {
   "cell_type": "markdown",
   "metadata": {},
   "source": [
    "In linear regression, we are attempting to to fit the output onto a *continuous* result function. For the plot above, this is the question that we are trying to answer here: \n",
    "\n",
    "*Is there a line that can fit onto these four points which can best explain the relationship between x and y?*"
   ]
  },
  {
   "cell_type": "markdown",
   "metadata": {},
   "source": [
    "To do this we need to start by having a hypothesis function in the form of:\n",
    "\n",
    "\\begin{align}\n",
    "\\hat{y} &= h_{\\theta}(x) \\\\\n",
    "\\hat{y} &= \\theta_0 + \\theta_1x\n",
    "\\end{align}"
   ]
  },
  {
   "cell_type": "markdown",
   "metadata": {
    "ExecuteTime": {
     "end_time": "2017-10-23T07:09:47.727259",
     "start_time": "2017-10-23T07:09:47.705463"
    }
   },
   "source": [
    "Basically we are trying to create a function called $h_0(x)$ that is trying to map our input x to our output y. For univariate linear regression, $h_0(x)$ is defined as the equation of a line. We need to determine values of $\\theta_0$ and $\\theta_1$ which best approximates y, given x."
   ]
  },
  {
   "cell_type": "markdown",
   "metadata": {},
   "source": [
    "### Cost Function"
   ]
  },
  {
   "cell_type": "markdown",
   "metadata": {},
   "source": [
    "We can measure the accuracy of our hypothesis function by using a **cost function**. The cost function measures the accuracy of the hypothesis function against the correct results.\n",
    "\n",
    "$$J(\\theta_0, \\theta_1) = \\dfrac {1}{2m} \\displaystyle \\sum _{i=1}^m \\left ( \\hat{y}_{i}- y_{i} \\right)^2  = \\dfrac {1}{2m} \\displaystyle \\sum _{i=1}^m \\left (h_\\theta (x_{i}) - y_{i} \\right)^2$$"
   ]
  },
  {
   "cell_type": "markdown",
   "metadata": {},
   "source": [
    "The cost function defined above is also known as the *mean squared error* function. The objective of linear regression is to find $h_{\\theta}(x)$ such that the cost function gives the least value, which signifies the least amount of error"
   ]
  },
  {
   "cell_type": "code",
   "execution_count": null,
   "metadata": {
    "collapsed": true
   },
   "outputs": [],
   "source": []
  }
 ],
 "metadata": {
  "anaconda-cloud": {},
  "kernelspec": {
   "display_name": "Python [conda env:py35]",
   "language": "python",
   "name": "conda-env-py35-py"
  }
 },
 "nbformat": 4,
 "nbformat_minor": 1
}
